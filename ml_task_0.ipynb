{
  "nbformat": 4,
  "nbformat_minor": 0,
  "metadata": {
    "colab": {
      "name": "ml-task-0.ipynb",
      "provenance": [],
      "collapsed_sections": [],
      "authorship_tag": "ABX9TyMhJKZJnHUWRWMNdKh1TiGq",
      "include_colab_link": true
    },
    "kernelspec": {
      "name": "python3",
      "display_name": "Python 3"
    }
  },
  "cells": [
    {
      "cell_type": "markdown",
      "metadata": {
        "id": "view-in-github",
        "colab_type": "text"
      },
      "source": [
        "<a href=\"https://colab.research.google.com/github/mikaeelkhalid/CS531-machine-learning/blob/master/ml_task_0.ipynb\" target=\"_parent\"><img src=\"https://colab.research.google.com/assets/colab-badge.svg\" alt=\"Open In Colab\"/></a>"
      ]
    },
    {
      "cell_type": "code",
      "metadata": {
        "id": "ldwKXWo-o07q",
        "colab_type": "code",
        "colab": {}
      },
      "source": [
        "# Q: You have flipped a coin 4 times. What is the probability of getting two heads and two tails?"
      ],
      "execution_count": 1,
      "outputs": []
    },
    {
      "cell_type": "code",
      "metadata": {
        "id": "89h_8-S6p1yQ",
        "colab_type": "code",
        "colab": {}
      },
      "source": [
        "# calculating factorial \n",
        "def fact(n): \n",
        "\tresult = 1\n",
        "\tfor i in range(2, n + 1): \n",
        "\t\tresult = result * i \n",
        "\treturn result \n",
        "\n",
        "# applying the formula \n",
        "def count_heads(toss, head): \n",
        "\t\n",
        "\toutput = fact(toss) / (fact(head) * fact(toss - head)) \n",
        "\toutput = output / (pow(2, toss)) \n",
        "\treturn output \n",
        "\n",
        "# Driver code \n",
        "tosses = 4\n",
        "heads = 2"
      ],
      "execution_count": 2,
      "outputs": []
    },
    {
      "cell_type": "code",
      "metadata": {
        "id": "I0MvddKnp8GI",
        "colab_type": "code",
        "colab": {
          "base_uri": "https://localhost:8080/",
          "height": 34
        },
        "outputId": "d8b50663-6cd7-456c-8988-a03a82158510"
      },
      "source": [
        "# printing the result \n",
        "print (count_heads(tosses, heads)) "
      ],
      "execution_count": 3,
      "outputs": [
        {
          "output_type": "stream",
          "text": [
            "0.375\n"
          ],
          "name": "stdout"
        }
      ]
    }
  ]
}