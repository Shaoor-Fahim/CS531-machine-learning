{
  "nbformat": 4,
  "nbformat_minor": 0,
  "metadata": {
    "colab": {
      "name": "a01-regression-model-and-cost.ipynb",
      "provenance": [],
      "collapsed_sections": [],
      "authorship_tag": "ABX9TyNwbz6eKKPdQVd3rqpi9SHZ",
      "include_colab_link": true
    },
    "kernelspec": {
      "name": "python3",
      "display_name": "Python 3"
    }
  },
  "cells": [
    {
      "cell_type": "markdown",
      "metadata": {
        "id": "view-in-github",
        "colab_type": "text"
      },
      "source": [
        "<a href=\"https://colab.research.google.com/github/mikaeelkhalid/CS531-machine-learning/blob/master/a01_regression_model_and_cost.ipynb\" target=\"_parent\"><img src=\"https://colab.research.google.com/assets/colab-badge.svg\" alt=\"Open In Colab\"/></a>"
      ]
    },
    {
      "cell_type": "code",
      "metadata": {
        "id": "tXWS6JihNAIA",
        "colab_type": "code",
        "colab": {}
      },
      "source": [
        "import numpy as np\n",
        "import matplotlib.pyplot as plt"
      ],
      "execution_count": 40,
      "outputs": []
    },
    {
      "cell_type": "code",
      "metadata": {
        "id": "NmJr_O81OhM_",
        "colab_type": "code",
        "colab": {
          "base_uri": "https://localhost:8080/",
          "height": 34
        },
        "outputId": "2af925cd-b458-4897-f559-4d5b9be82023"
      },
      "source": [
        "from google.colab import drive\n",
        "drive.mount('/content/drive')"
      ],
      "execution_count": 41,
      "outputs": [
        {
          "output_type": "stream",
          "text": [
            "Drive already mounted at /content/drive; to attempt to forcibly remount, call drive.mount(\"/content/drive\", force_remount=True).\n"
          ],
          "name": "stdout"
        }
      ]
    },
    {
      "cell_type": "code",
      "metadata": {
        "id": "hk99qNvxOxef",
        "colab_type": "code",
        "colab": {}
      },
      "source": [
        "path = \"/content/drive/My Drive/data/age-bp-regression.txt\""
      ],
      "execution_count": 42,
      "outputs": []
    },
    {
      "cell_type": "code",
      "metadata": {
        "id": "D_qLqerparO2",
        "colab_type": "code",
        "colab": {}
      },
      "source": [
        "data = np.loadtxt(path, delimiter=' ')\n",
        "# print(data)\n",
        "X = data[:, 0]\n",
        "y = data[:, 1]\n",
        "# print('X: ', X)\n",
        "# print('y: ', y)\n"
      ],
      "execution_count": 43,
      "outputs": []
    },
    {
      "cell_type": "code",
      "metadata": {
        "id": "TTi56biWbn6Q",
        "colab_type": "code",
        "colab": {
          "base_uri": "https://localhost:8080/",
          "height": 279
        },
        "outputId": "058fd984-29dc-4241-bc2b-5b5ad0ffc788"
      },
      "source": [
        "plt.scatter(x=X, y=y, c='r')\n",
        "plt.xlabel('AGE')\n",
        "plt.ylabel('BP')\n",
        "plt.show()"
      ],
      "execution_count": 44,
      "outputs": [
        {
          "output_type": "display_data",
          "data": {
            "image/png": "[encoded data removed]",
            "text/plain": [
              "<Figure size 432x288 with 1 Axes>"
            ]
          },
          "metadata": {
            "tags": [],
            "needs_background": "light"
          }
        }
      ]
    },
    {
      "cell_type": "code",
      "metadata": {
        "id": "5IR0vDSOknjt",
        "colab_type": "code",
        "colab": {}
      },
      "source": [
        "hyps = []\n",
        "for i in range(1, 30):\n",
        "    val = 0.0\n",
        "    val = (val+i)/10\n",
        "    hyps.append(val)\n",
        "# print(hyps)"
      ],
      "execution_count": 45,
      "outputs": []
    },
    {
      "cell_type": "code",
      "metadata": {
        "id": "gWkiH-0cktKh",
        "colab_type": "code",
        "colab": {}
      },
      "source": [
        "def multiply_matrix(mat, theta):\n",
        "    mutated = []\n",
        "    for i in range(len(mat)):\n",
        "        mutated.append(mat[i] * theta)\n",
        "\n",
        "    return mutated"
      ],
      "execution_count": 46,
      "outputs": []
    },
    {
      "cell_type": "code",
      "metadata": {
        "id": "NH59lAgVkyjH",
        "colab_type": "code",
        "colab": {}
      },
      "source": [
        "def calc_cost(m, X, y):\n",
        "    total = 0\n",
        "    for i in range(m):\n",
        "        squared_error = (y[i] - X[i]) ** 2\n",
        "        total += squared_error\n",
        "    \n",
        "    return total * (1 / (2*m))"
      ],
      "execution_count": 47,
      "outputs": []
    },
    {
      "cell_type": "code",
      "metadata": {
        "id": "PfKnslnsk4OE",
        "colab_type": "code",
        "colab": {
          "base_uri": "https://localhost:8080/",
          "height": 1000
        },
        "outputId": "9befb828-72c1-49da-deeb-b334b6a3a5c6"
      },
      "source": [
        "for i in range(len(hyps)):\n",
        "    hyp_values = multiply_matrix(X, hyps[i])\n",
        "\n",
        "    print(\"Cost for \", hyps[i], \" is \", calc_cost(len(X), y, hyp_values))\n",
        "    print(\" \")"
      ],
      "execution_count": 48,
      "outputs": [
        {
          "output_type": "stream",
          "text": [
            "Cost for  0.1  is  9750.395666666667\n",
            " \n",
            "Cost for  0.2  is  9119.089333333333\n",
            " \n",
            "Cost for  0.3  is  8510.414333333332\n",
            " \n",
            "Cost for  0.4  is  7924.370666666667\n",
            " \n",
            "Cost for  0.5  is  7360.958333333333\n",
            " \n",
            "Cost for  0.6  is  6820.177333333334\n",
            " \n",
            "Cost for  0.7  is  6302.027666666668\n",
            " \n",
            "Cost for  0.8  is  5806.509333333333\n",
            " \n",
            "Cost for  0.9  is  5333.622333333333\n",
            " \n",
            "Cost for  1.0  is  4883.366666666667\n",
            " \n",
            "Cost for  1.1  is  4455.742333333332\n",
            " \n",
            "Cost for  1.2  is  4050.7493333333327\n",
            " \n",
            "Cost for  1.3  is  3668.3876666666656\n",
            " \n",
            "Cost for  1.4  is  3308.657333333333\n",
            " \n",
            "Cost for  1.5  is  2971.5583333333334\n",
            " \n",
            "Cost for  1.6  is  2657.090666666666\n",
            " \n",
            "Cost for  1.7  is  2365.2543333333338\n",
            " \n",
            "Cost for  1.8  is  2096.049333333333\n",
            " \n",
            "Cost for  1.9  is  1849.475666666667\n",
            " \n",
            "Cost for  2.0  is  1625.5333333333333\n",
            " \n",
            "Cost for  2.1  is  1424.2223333333327\n",
            " \n",
            "Cost for  2.2  is  1245.5426666666667\n",
            " \n",
            "Cost for  2.3  is  1089.4943333333335\n",
            " \n",
            "Cost for  2.4  is  956.0773333333335\n",
            " \n",
            "Cost for  2.5  is  845.2916666666666\n",
            " \n",
            "Cost for  2.6  is  757.1373333333333\n",
            " \n",
            "Cost for  2.7  is  691.6143333333333\n",
            " \n",
            "Cost for  2.8  is  648.7226666666668\n",
            " \n",
            "Cost for  2.9  is  628.4623333333334\n",
            " \n"
          ],
          "name": "stdout"
        }
      ]
    }
  ]
}