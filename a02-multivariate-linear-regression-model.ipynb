{
  "nbformat": 4,
  "nbformat_minor": 0,
  "metadata": {
    "colab": {
      "name": "a02-multivariate-linear-regression-model.ipynb",
      "provenance": [],
      "collapsed_sections": [],
      "authorship_tag": "ABX9TyMc5IhgG1CTSafQRVSSlB6l",
      "include_colab_link": true
    },
    "kernelspec": {
      "display_name": "Python 3",
      "name": "python3"
    }
  },
  "cells": [
    {
      "cell_type": "markdown",
      "metadata": {
        "id": "view-in-github",
        "colab_type": "text"
      },
      "source": [
        "<a href=\"https://colab.research.google.com/github/mikaeelkhalid/CS531-machine-learning/blob/master/a02-multivariate-linear-regression-model.ipynb\" target=\"_parent\"><img src=\"https://colab.research.google.com/assets/colab-badge.svg\" alt=\"Open In Colab\"/></a>"
      ]
    },
    {
      "cell_type": "code",
      "metadata": {
        "id": "imujZuaHofxi"
      },
      "source": [
        "import numpy as np\n",
        "import pandas as pd"
      ],
      "execution_count": null,
      "outputs": []
    },
    {
      "cell_type": "code",
      "metadata": {
        "id": "Dkq6Rb-XrQtT",
        "outputId": "ac0ac041-5401-46fa-dad3-9c335b07344e",
        "colab": {
          "base_uri": "https://localhost:8080/"
        }
      },
      "source": [
        "from google.colab import drive\n",
        "drive.mount('/content/drive')"
      ],
      "execution_count": null,
      "outputs": [
        {
          "output_type": "stream",
          "text": [
            "Drive already mounted at /content/drive; to attempt to forcibly remount, call drive.mount(\"/content/drive\", force_remount=True).\n"
          ],
          "name": "stdout"
        }
      ]
    },
    {
      "cell_type": "code",
      "metadata": {
        "id": "KBHtDnxxrbgf"
      },
      "source": [
        "path = \"/content/drive/My Drive/data/multi-variate-regression-course-evaluation.txt\""
      ],
      "execution_count": null,
      "outputs": []
    },
    {
      "cell_type": "code",
      "metadata": {
        "id": "BB7GqhswrtJh",
        "outputId": "4b34650a-a76e-47f5-f071-409efb6f49d9",
        "colab": {
          "base_uri": "https://localhost:8080/",
          "height": 221
        }
      },
      "source": [
        "#reading the data from given dataset\n",
        "df = pd.read_csv(path, delim_whitespace=True)\n",
        "df.drop('SNo', axis=1, inplace=True)\n",
        "print(df.shape)\n",
        "df.head()"
      ],
      "execution_count": null,
      "outputs": [
        {
          "output_type": "stream",
          "text": [
            "(40, 7)\n"
          ],
          "name": "stdout"
        },
        {
          "output_type": "execute_result",
          "data": {
            "text/html": [
              "<div>\n",
              "<style scoped>\n",
              "    .dataframe tbody tr th:only-of-type {\n",
              "        vertical-align: middle;\n",
              "    }\n",
              "\n",
              "    .dataframe tbody tr th {\n",
              "        vertical-align: top;\n",
              "    }\n",
              "\n",
              "    .dataframe thead th {\n",
              "        text-align: right;\n",
              "    }\n",
              "</style>\n",
              "<table border=\"1\" class=\"dataframe\">\n",
              "  <thead>\n",
              "    <tr style=\"text-align: right;\">\n",
              "      <th></th>\n",
              "      <th>A</th>\n",
              "      <th>Q</th>\n",
              "      <th>S1</th>\n",
              "      <th>S2</th>\n",
              "      <th>F</th>\n",
              "      <th>P</th>\n",
              "      <th>Score</th>\n",
              "    </tr>\n",
              "  </thead>\n",
              "  <tbody>\n",
              "    <tr>\n",
              "      <th>0</th>\n",
              "      <td>6.25</td>\n",
              "      <td>3.75</td>\n",
              "      <td>5.76</td>\n",
              "      <td>7.5</td>\n",
              "      <td>24.11</td>\n",
              "      <td>9.0</td>\n",
              "      <td>56.39</td>\n",
              "    </tr>\n",
              "    <tr>\n",
              "      <th>1</th>\n",
              "      <td>7.00</td>\n",
              "      <td>4.75</td>\n",
              "      <td>8.84</td>\n",
              "      <td>8.5</td>\n",
              "      <td>35.29</td>\n",
              "      <td>9.5</td>\n",
              "      <td>73.89</td>\n",
              "    </tr>\n",
              "    <tr>\n",
              "      <th>2</th>\n",
              "      <td>9.75</td>\n",
              "      <td>10.00</td>\n",
              "      <td>3.07</td>\n",
              "      <td>6.5</td>\n",
              "      <td>35.29</td>\n",
              "      <td>7.5</td>\n",
              "      <td>72.12</td>\n",
              "    </tr>\n",
              "    <tr>\n",
              "      <th>3</th>\n",
              "      <td>9.75</td>\n",
              "      <td>9.75</td>\n",
              "      <td>2.69</td>\n",
              "      <td>5.5</td>\n",
              "      <td>28.82</td>\n",
              "      <td>5.5</td>\n",
              "      <td>62.02</td>\n",
              "    </tr>\n",
              "    <tr>\n",
              "      <th>4</th>\n",
              "      <td>5.50</td>\n",
              "      <td>1.50</td>\n",
              "      <td>4.03</td>\n",
              "      <td>8.0</td>\n",
              "      <td>24.11</td>\n",
              "      <td>7.5</td>\n",
              "      <td>50.66</td>\n",
              "    </tr>\n",
              "  </tbody>\n",
              "</table>\n",
              "</div>"
            ],
            "text/plain": [
              "      A      Q    S1   S2      F    P  Score\n",
              "0  6.25   3.75  5.76  7.5  24.11  9.0  56.39\n",
              "1  7.00   4.75  8.84  8.5  35.29  9.5  73.89\n",
              "2  9.75  10.00  3.07  6.5  35.29  7.5  72.12\n",
              "3  9.75   9.75  2.69  5.5  28.82  5.5  62.02\n",
              "4  5.50   1.50  4.03  8.0  24.11  7.5  50.66"
            ]
          },
          "metadata": {
            "tags": []
          },
          "execution_count": 144
        }
      ]
    },
    {
      "cell_type": "code",
      "metadata": {
        "id": "XfXVp3IzAgeT"
      },
      "source": [
        "A = df['A'].values\n",
        "Q = df['Q'].values\n",
        "S1 = df['S1'].values\n",
        "S2 = df['S2'].values\n",
        "F = df['F'].values\n",
        "P = df['P'].values\n",
        "Score = df['Score'].values"
      ],
      "execution_count": null,
      "outputs": []
    },
    {
      "cell_type": "code",
      "metadata": {
        "id": "xeXlJxhfC0eE"
      },
      "source": [
        "m = len(A)\n",
        "x0 = np.ones(m)\n",
        "X = np.array([A, Q, S1, S2, F, P]).T\n",
        "\n",
        "B = np.array([0, 0, 0, 0, 0, 0])\n",
        "\n",
        "Y = np.array(Score)\n",
        "\n",
        "alpha = 0.0001"
      ],
      "execution_count": null,
      "outputs": []
    },
    {
      "cell_type": "code",
      "metadata": {
        "id": "OHGypd_1DoZs"
      },
      "source": [
        "def cost_function(X, Y, B):\n",
        "    m = len(Y)\n",
        "    J = np.sum((X.dot(B) - Y) ** 2)/(2 * m)\n",
        "    return J"
      ],
      "execution_count": null,
      "outputs": []
    },
    {
      "cell_type": "code",
      "metadata": {
        "id": "mwpbBtmhDsl-",
        "outputId": "7b55d40a-d98b-4842-eef9-e72e38b1eb3f",
        "colab": {
          "base_uri": "https://localhost:8080/"
        }
      },
      "source": [
        "inital_cost = cost_function(X, Y, B)\n",
        "print(inital_cost)"
      ],
      "execution_count": null,
      "outputs": [
        {
          "output_type": "stream",
          "text": [
            "2111.61479375\n"
          ],
          "name": "stdout"
        }
      ]
    },
    {
      "cell_type": "code",
      "metadata": {
        "id": "nxzOIRxGD6rU"
      },
      "source": [
        "def gradient_descent(X, Y, B, alpha, iterations):\n",
        "  cost_history = [0] * iterations\n",
        "  m = len(Y)\n",
        "\n",
        "  for iteration in range(iterations):\n",
        "    h = X.dot(B)\n",
        "    loss = h - Y\n",
        "    gradient = X.T.dot(loss) / m\n",
        "    B = B - alpha * gradient\n",
        "    cost = cost_function(X, Y, B)\n",
        "    cost_history[iteration] = cost\n",
        "\n",
        "  return B, cost_history"
      ],
      "execution_count": null,
      "outputs": []
    },
    {
      "cell_type": "code",
      "metadata": {
        "id": "XxVMn3c2EiIt",
        "outputId": "a28d8950-9a18-4b97-ccf9-1aaff49ae551",
        "colab": {
          "base_uri": "https://localhost:8080/"
        }
      },
      "source": [
        "newB, cost_history = gradient_descent(X, Y, B, alpha, 100000)\n",
        "print(newB)"
      ],
      "execution_count": null,
      "outputs": [
        {
          "output_type": "stream",
          "text": [
            "[1.00171352 0.99916056 1.00069143 1.00017691 0.99997054 1.00001695]\n"
          ],
          "name": "stdout"
        }
      ]
    },
    {
      "cell_type": "code",
      "metadata": {
        "id": "Xn81DYu2Eolz",
        "outputId": "f466a95d-12d9-434d-b1c6-bbb97d0841d0",
        "colab": {
          "base_uri": "https://localhost:8080/"
        }
      },
      "source": [
        "print(cost_history[-1])"
      ],
      "execution_count": null,
      "outputs": [
        {
          "output_type": "stream",
          "text": [
            "1.6385166489107843e-05\n"
          ],
          "name": "stdout"
        }
      ]
    }
  ]
}