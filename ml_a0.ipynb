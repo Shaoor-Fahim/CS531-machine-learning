{
  "nbformat": 4,
  "nbformat_minor": 0,
  "metadata": {
    "colab": {
      "name": "ml-a0.ipynb",
      "provenance": [],
      "collapsed_sections": [],
      "authorship_tag": "ABX9TyNI5qHYpsT4uul+MWqKYGga",
      "include_colab_link": true
    },
    "kernelspec": {
      "name": "python3",
      "display_name": "Python 3"
    }
  },
  "cells": [
    {
      "cell_type": "markdown",
      "metadata": {
        "id": "view-in-github",
        "colab_type": "text"
      },
      "source": [
        "<a href=\"https://colab.research.google.com/github/mikaeelkhalid/CS531-machine-learning/blob/master/ml_a0.ipynb\" target=\"_parent\"><img src=\"https://colab.research.google.com/assets/colab-badge.svg\" alt=\"Open In Colab\"/></a>"
      ]
    },
    {
      "cell_type": "code",
      "metadata": {
        "id": "Wb6MrDF2xLM7",
        "colab_type": "code",
        "colab": {}
      },
      "source": [
        "# White Space Formatting"
      ],
      "execution_count": null,
      "outputs": []
    },
    {
      "cell_type": "code",
      "metadata": {
        "id": "gb3ffe8uxeOC",
        "colab_type": "code",
        "colab": {}
      },
      "source": [
        "for i in [1, 2, 3, 4, 5]:\n",
        "  print(i)\n",
        "  for j in [1, 2, 3, 4, 5]:\n",
        "    print(j)\n",
        "    print(i+j)\n",
        "  print(i)\n",
        "print(\"done looping.\")\n"
      ],
      "execution_count": null,
      "outputs": []
    },
    {
      "cell_type": "code",
      "metadata": {
        "id": "sAwVIXI6yNh-",
        "colab_type": "code",
        "colab": {}
      },
      "source": [
        "# Modules"
      ],
      "execution_count": null,
      "outputs": []
    },
    {
      "cell_type": "code",
      "metadata": {
        "id": "mMPfDyr6yO3g",
        "colab_type": "code",
        "colab": {
          "base_uri": "https://localhost:8080/",
          "height": 34
        },
        "outputId": "30b44329-985f-40d4-f6e8-e86296e8fcd3"
      },
      "source": [
        "import re\n",
        "import matplotlib.pyplot as plt\n",
        "\n",
        "my_regex = re.compile(\"[0-9]+\", re.I)\n",
        "\n",
        "print(my_regex)"
      ],
      "execution_count": 3,
      "outputs": [
        {
          "output_type": "stream",
          "text": [
            "re.compile('[0-9]+', re.IGNORECASE)\n"
          ],
          "name": "stdout"
        }
      ]
    },
    {
      "cell_type": "code",
      "metadata": {
        "id": "nURMW9U9y24C",
        "colab_type": "code",
        "colab": {}
      },
      "source": [
        "# Arithmetics"
      ],
      "execution_count": null,
      "outputs": []
    },
    {
      "cell_type": "code",
      "metadata": {
        "id": "Gl5qtPlSy6dM",
        "colab_type": "code",
        "colab": {
          "base_uri": "https://localhost:8080/",
          "height": 51
        },
        "outputId": "18a1b0d2-0d54-4290-cdb1-401ce0f3372b"
      },
      "source": [
        "x = 5/2\n",
        "print(\"5/2 = \", x)\n",
        "\n",
        "y = 5//2\n",
        "print(\"5//2 = \", y)"
      ],
      "execution_count": 7,
      "outputs": [
        {
          "output_type": "stream",
          "text": [
            "5/2 =  2.5\n",
            "5//2 =  2\n"
          ],
          "name": "stdout"
        }
      ]
    },
    {
      "cell_type": "code",
      "metadata": {
        "id": "YgFrvma0zYC1",
        "colab_type": "code",
        "colab": {}
      },
      "source": [
        "# Functions"
      ],
      "execution_count": null,
      "outputs": []
    },
    {
      "cell_type": "code",
      "metadata": {
        "id": "pbF0lwrYzZdH",
        "colab_type": "code",
        "colab": {}
      },
      "source": [
        "def double(x):\n",
        "\n",
        "  return x*2\n",
        "\n",
        "def apply_to_one(f):\n",
        "\n",
        "  return f(1)\n",
        "\n",
        "my_double = double\n",
        "x = apply_to_one(my_double)\n",
        "\n",
        "y = apply_to_one(lambda x: x + 4)"
      ],
      "execution_count": 8,
      "outputs": []
    },
    {
      "cell_type": "code",
      "metadata": {
        "id": "hbJQUkUSTLqx",
        "colab_type": "code",
        "colab": {}
      },
      "source": [
        "# Strings"
      ],
      "execution_count": null,
      "outputs": []
    },
    {
      "cell_type": "code",
      "metadata": {
        "id": "WJxi-gYLTNtu",
        "colab_type": "code",
        "colab": {}
      },
      "source": [
        "single_quoted_string = 'data science'\n",
        "double_quoted_string = \"data science\"\n",
        "\n",
        "tab_string = \"\\t\"\n",
        "len(tab_string)\n",
        "\n",
        "multi_line_string = \"\"\"this is the first line.\n",
        "this is the second line.\n",
        "and this is the second line\"\"\"\n"
      ],
      "execution_count": null,
      "outputs": []
    },
    {
      "cell_type": "code",
      "metadata": {
        "id": "HhWsdEqGVbHk",
        "colab_type": "code",
        "colab": {}
      },
      "source": [
        "# Exceptions"
      ],
      "execution_count": null,
      "outputs": []
    },
    {
      "cell_type": "code",
      "metadata": {
        "id": "cPkS0zq-Vec9",
        "colab_type": "code",
        "colab": {}
      },
      "source": [
        "try:\n",
        "  print 0/0\n",
        "except ZeroDivideZeroError:\n",
        "  print \"cannot divide by zero\"\n",
        "  "
      ],
      "execution_count": null,
      "outputs": []
    },
    {
      "cell_type": "code",
      "metadata": {
        "id": "5kMR2kkdXk7g",
        "colab_type": "code",
        "colab": {}
      },
      "source": [
        "# Lists"
      ],
      "execution_count": null,
      "outputs": []
    },
    {
      "cell_type": "code",
      "metadata": {
        "id": "UsaUP5VpXmk2",
        "colab_type": "code",
        "colab": {}
      },
      "source": [
        "integer_list = [1,2,3]\n",
        "heterogeneous_list = [\"string\", 0.1, True]\n",
        "list_of_lists = [integer_list, heterogeneous_list, [] ]\n",
        "\n",
        "list_length = len(integer_list)\n",
        "list_sum = sum(integer_list)"
      ],
      "execution_count": 1,
      "outputs": []
    },
    {
      "cell_type": "code",
      "metadata": {
        "id": "-LGmV6UIYZGQ",
        "colab_type": "code",
        "colab": {}
      },
      "source": [
        "# Tuples"
      ],
      "execution_count": null,
      "outputs": []
    },
    {
      "cell_type": "code",
      "metadata": {
        "id": "a1pYXP1hYabX",
        "colab_type": "code",
        "colab": {
          "base_uri": "https://localhost:8080/",
          "height": 34
        },
        "outputId": "80c05ee5-1568-44bd-e307-70acb53baa61"
      },
      "source": [
        "my_list = [1, 2]\n",
        "my_tuple = (1, 2)\n",
        "other_tuple = 3, 4\n",
        "my_list[1] = 3\n",
        "\n",
        "try:\n",
        "  my_tuple[1] = 3\n",
        "except TypeError:\n",
        "  print (\"cannot modify a tuple\")"
      ],
      "execution_count": 2,
      "outputs": [
        {
          "output_type": "stream",
          "text": [
            "cannot modify a tuple\n"
          ],
          "name": "stdout"
        }
      ]
    },
    {
      "cell_type": "code",
      "metadata": {
        "id": "mN3UWmU7Yglc",
        "colab_type": "code",
        "colab": {}
      },
      "source": [
        "# Dictionaries"
      ],
      "execution_count": null,
      "outputs": []
    },
    {
      "cell_type": "code",
      "metadata": {
        "id": "on1ux7d5Ykqx",
        "colab_type": "code",
        "colab": {}
      },
      "source": [
        "empty_dict = {}\n",
        "empty_dict2 = dict()\n",
        "grades = {\"Joel\" : 80, \"Tim\" : 95}\n",
        "\n",
        "joels_grade = grades[\"Joel\"]\n",
        "\n",
        "joel_has_grade = \"Joel\" in grades\n",
        "kate_has_grade = \"Kate\" in grades\n",
        "\n",
        "joels_grade = grades.get(\"Joel\", 0)\n",
        "kates_grade = grades.get(\"Kate\", 0)\n",
        "no_ones_grade = grades.get(\"No One\")"
      ],
      "execution_count": 3,
      "outputs": []
    },
    {
      "cell_type": "code",
      "metadata": {
        "id": "E4nnHEpUYy4D",
        "colab_type": "code",
        "colab": {}
      },
      "source": [
        "# Control Flows"
      ],
      "execution_count": null,
      "outputs": []
    },
    {
      "cell_type": "code",
      "metadata": {
        "id": "8aNiw6TVY7hy",
        "colab_type": "code",
        "colab": {}
      },
      "source": [
        "if 1>2:\n",
        "  message = \"if only 1 were greater than two\"\n",
        "elif 1>3:\n",
        "  message = \"elif stands for 'else if'\"\n",
        "else:\n",
        "  message = \"when all else fails use else (if you want to)\"\n"
      ],
      "execution_count": 5,
      "outputs": []
    },
    {
      "cell_type": "code",
      "metadata": {
        "id": "-L9vnysQZLG8",
        "colab_type": "code",
        "colab": {}
      },
      "source": [
        "# Loops"
      ],
      "execution_count": null,
      "outputs": []
    },
    {
      "cell_type": "code",
      "metadata": {
        "id": "whXczBYKZPKF",
        "colab_type": "code",
        "colab": {
          "base_uri": "https://localhost:8080/",
          "height": 425
        },
        "outputId": "2563ef02-eabe-4533-bad8-2c94cc92eff8"
      },
      "source": [
        "x = 0\n",
        "while x < 10:\n",
        "  print (x, \" is less than 10\")\n",
        "  x += 1\n",
        "\n",
        "for x in range(10):\n",
        "  print (x, \" is less than 10\")\n",
        "\n",
        "for x in range(10):\n",
        "  if x == 3:\n",
        "    continue\n",
        "  if x == 5:\n",
        "    break\n",
        "  print (x)"
      ],
      "execution_count": 6,
      "outputs": [
        {
          "output_type": "stream",
          "text": [
            "0  is less than 10\n",
            "1  is less than 10\n",
            "2  is less than 10\n",
            "3  is less than 10\n",
            "4  is less than 10\n",
            "5  is less than 10\n",
            "6  is less than 10\n",
            "7  is less than 10\n",
            "8  is less than 10\n",
            "9  is less than 10\n",
            "0  is less than 10\n",
            "1  is less than 10\n",
            "2  is less than 10\n",
            "3  is less than 10\n",
            "4  is less than 10\n",
            "5  is less than 10\n",
            "6  is less than 10\n",
            "7  is less than 10\n",
            "8  is less than 10\n",
            "9  is less than 10\n",
            "0\n",
            "1\n",
            "2\n",
            "4\n"
          ],
          "name": "stdout"
        }
      ]
    },
    {
      "cell_type": "code",
      "metadata": {
        "id": "0gt6iZU6ZafZ",
        "colab_type": "code",
        "colab": {}
      },
      "source": [
        "# Sorting"
      ],
      "execution_count": null,
      "outputs": []
    },
    {
      "cell_type": "code",
      "metadata": {
        "id": "QFB8atZ2ZfCJ",
        "colab_type": "code",
        "colab": {}
      },
      "source": [
        "x = [4,1,2,3]\n",
        "y = sorted(x)\n",
        "x.sort()"
      ],
      "execution_count": 7,
      "outputs": []
    }
  ]
}